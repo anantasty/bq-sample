{
 "cells": [
  {
   "cell_type": "code",
   "execution_count": null,
   "metadata": {
    "collapsed": true,
    "deletable": true,
    "editable": true
   },
   "outputs": [],
   "source": [
    "# bash code to load data into BQ\n",
    "# bq load --source_format=CSV crypto.crypto_data gs://anant-caserta-eval/crypto_data.csv \\\n",
    "# available_supply:FLOAT,name:STRING,percent_change_1h:FLOAT,percent_change_24h:FLOAT,last_updated:FLOAT,market_cap_usd:FLOAT,symbol:STRING,\\\n",
    "# volume_24h_usd:FLOAT,price_usd:FLOAT,percent_change_7d:FLOAT,total_supply:FLOAT,id:STRING,price_btc:FLOAT,rank:FLOAT,max_supply:FLOAT"
   ]
  },
  {
   "cell_type": "code",
   "execution_count": 3,
   "metadata": {
    "collapsed": false,
    "deletable": true,
    "editable": true
   },
   "outputs": [],
   "source": [
    "import time\n",
    "import six\n",
    "try:\n",
    "    import pandas\n",
    "except ImportError:\n",
    "    pandas = None\n",
    "\n",
    "from google.cloud import bigquery"
   ]
  },
  {
   "cell_type": "code",
   "execution_count": 31,
   "metadata": {
    "collapsed": true,
    "deletable": true,
    "editable": true
   },
   "outputs": [],
   "source": [
    "client = bigquery.Client()\n",
    "def run_query(query):\n",
    "  query_job = client.query(query)\n",
    "  return list(query_job.result())"
   ]
  },
  {
   "cell_type": "code",
   "execution_count": 32,
   "metadata": {
    "collapsed": false,
    "deletable": true,
    "editable": true
   },
   "outputs": [
    {
     "name": "stdout",
     "output_type": "stream",
     "text": [
      "Number of currencies with count more that $ 8000: 1\n"
     ]
    }
   ],
   "source": [
    "\n",
    "#coins with price > $8k\n",
    "query_8k = 'with price_8k as (select count(*) as count_8k from `crypto.crypto_data`  where price_usd > 8000) select * from price_8k' \n",
    "print('Number of currencies with count more that $ 8000: {}'.format(run_query(query_8k)[0][0]))"
   ]
  },
  {
   "cell_type": "code",
   "execution_count": 33,
   "metadata": {
    "collapsed": false,
    "deletable": true,
    "editable": true
   },
   "outputs": [
    {
     "name": "stdout",
     "output_type": "stream",
     "text": [
      "Total market cap of the top 100 currencies is : $ 411094574210.00\n"
     ]
    }
   ],
   "source": [
    "query_marketcap = '''with total_marketcap as \n",
    "(select market_cap_usd as market_cap from `crypto.crypto_data`  \n",
    "order by market_cap_usd DESC LIMIT 100) select sum(market_cap) \n",
    "as sum_marketcap from total_marketcap'''\n",
    "print('Total market cap of the top 100 currencies is : $ {:10.2f}'.format(run_query(query_marketcap)[0][0]))"
   ]
  },
  {
   "cell_type": "code",
   "execution_count": 34,
   "metadata": {
    "collapsed": false,
    "deletable": true,
    "editable": true
   },
   "outputs": [
    {
     "name": "stdout",
     "output_type": "stream",
     "text": [
      "Currencies with market cap less than 5M: [u'Byteball Bytes', u'Mixin', u'Maker', u'DigixDAO', u'Zcash', u'Veritaseum', u'ZCoin']\n"
     ]
    }
   ],
   "source": [
    "query_marketcap_5m = '''with supply_lt5k as (select name from `crypto.crypto_data`  where available_supply < 5000000) select name from supply_lt5k'''\n",
    "print('Currencies with market cap less than 5M: {}'.format([item[0] for item in run_query(query_marketcap_5m)]))"
   ]
  },
  {
   "cell_type": "code",
   "execution_count": 35,
   "metadata": {
    "collapsed": false
   },
   "outputs": [
    {
     "name": "stdout",
     "output_type": "stream",
     "text": [
      "Currencies with greatest growth: [u'Mixin', u'Bitcoin Private', u'Bitcoin Cash', u'Dentacoin', u'Storm']\n"
     ]
    }
   ],
   "source": [
    "query_greatest_growth = '''with greatest_growth as (select name from `crypto.crypto_data`  ORDER BY percent_change_7d DESC LIMIT 5 ) select name from greatest_growth'''\n",
    "print('Currencies with greatest growth: {}'.format([item[0] for item in run_query(query_greatest_growth)]))"
   ]
  },
  {
   "cell_type": "code",
   "execution_count": 36,
   "metadata": {
    "collapsed": false
   },
   "outputs": [
    {
     "name": "stdout",
     "output_type": "stream",
     "text": [
      "Currencies with greatest growth: [u'PIVX', u'TenX', u'WAX', u'Pundi X', u'GXChain']\n"
     ]
    }
   ],
   "source": [
    "contains_x = '''with contains_x as (select name from `crypto.crypto_data`  where name like \"%X%\" ) select name from contains_x'''\n",
    "print('Currencies with greatest growth: {}'.format([item[0] for item in run_query(contains_x)]))"
   ]
  },
  {
   "cell_type": "code",
   "execution_count": null,
   "metadata": {
    "collapsed": true
   },
   "outputs": [],
   "source": []
  }
 ],
 "metadata": {
  "kernelspec": {
   "display_name": "Python 2",
   "language": "python",
   "name": "python2"
  },
  "language_info": {
   "codemirror_mode": {
    "name": "ipython",
    "version": 2
   },
   "file_extension": ".py",
   "mimetype": "text/x-python",
   "name": "python",
   "nbconvert_exporter": "python",
   "pygments_lexer": "ipython2",
   "version": "2.7.14"
  }
 },
 "nbformat": 4,
 "nbformat_minor": 2
}
